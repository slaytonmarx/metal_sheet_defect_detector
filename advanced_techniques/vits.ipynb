{
 "cells": [
  {
   "cell_type": "markdown",
   "metadata": {},
   "source": [
    "# VITs\n",
    "While transformers are better known for their use in generative AI (BERT and GPT), they can also be applied to visual data. A VIT is a Vision Transformer, and they've been shown to out-preform CNNs in some tasks. This isn't really one of those tasks, but it's worth mentioning and implementing."
   ]
  },
  {
   "cell_type": "code",
   "execution_count": null,
   "metadata": {},
   "outputs": [],
   "source": [
    "# Load the data\n",
    "# Design the VIT\n",
    "#"
   ]
  }
 ],
 "metadata": {
  "language_info": {
   "name": "python"
  }
 },
 "nbformat": 4,
 "nbformat_minor": 2
}
