{
 "cells": [
  {
   "cell_type": "markdown",
   "metadata": {},
   "source": [
    "# Hyper-parameter Tuning Workflow\n",
    "Another technique very much worth noting is hyper-parameter tuning, which follows a similar structure to the pre-processor tuning but deals with selecting the best model training parameters for the given data.\n",
    "\n",
    "Unfortunately there is no rigorous way to predict what parameters will be ideal for a given model or dataset, and thus training (and intuition built up over years of practice) is necessary. Still, we can have the computer run the tuning, even if we need to determine the value's ranges and what precisely to tune."
   ]
  },
  {
   "cell_type": "code",
   "execution_count": null,
   "metadata": {},
   "outputs": [],
   "source": [
    "# Implement learning rate scheduler\n",
    "# Implement batch normalization\n",
    "# Implement mixed precision tuning\n",
    "# Implement model pruning"
   ]
  }
 ],
 "metadata": {
  "language_info": {
   "name": "python"
  }
 },
 "nbformat": 4,
 "nbformat_minor": 2
}
