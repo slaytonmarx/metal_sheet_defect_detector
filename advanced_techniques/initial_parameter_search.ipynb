{
 "cells": [
  {
   "cell_type": "markdown",
   "metadata": {},
   "source": [
    "# Initial Parameter Search\n",
    "While all other techniques have value (and initial parameters don't really mean anything after many epochs), the truth is that a quick search of the best initial parameters can save large amounts of training time, and there isn't really any good reason not to do it.\n",
    "\n",
    "The following is a small loop I run to perform the search quickly. We could create an optuna study, but the actual code to do so is more involved than the task warrants."
   ]
  },
  {
   "cell_type": "code",
   "execution_count": 11,
   "metadata": {},
   "outputs": [
    {
     "name": "stdout",
     "output_type": "stream",
     "text": [
      "The autoreload extension is already loaded. To reload it, use:\n",
      "  %reload_ext autoreload\n",
      "cpu\n"
     ]
    }
   ],
   "source": [
    "%load_ext autoreload\n",
    "%autoreload 2\n",
    "\n",
    "import sys; sys.path.append('./*'); sys.path.append('..')\n",
    "import torch\n",
    "import torch.nn as nn\n",
    "from trainer import Trainer\n",
    "import pandas as pd\n",
    "import os.path as p\n",
    "\n",
    "torch.manual_seed(0)\n",
    "device = 'cuda' if torch.cuda.is_available() else 'cpu'\n",
    "print(device)\n",
    "d = '../sheet_data'"
   ]
  },
  {
   "cell_type": "code",
   "execution_count": 3,
   "metadata": {},
   "outputs": [
    {
     "name": "stdout",
     "output_type": "stream",
     "text": [
      "[Evaluation over 10 Batches], Test Loss: 1.41, Accuracy: 0.74\n",
      "[Evaluation over 10 Batches], Test Loss: 1.21, Accuracy: 0.71\n",
      "[Evaluation over 10 Batches], Test Loss: 1.38, Accuracy: 0.71\n",
      "[Evaluation over 10 Batches], Test Loss: 3.50, Accuracy: 0.48\n",
      "[Evaluation over 10 Batches], Test Loss: 1.01, Accuracy: 0.74\n",
      "[Evaluation over 10 Batches], Test Loss: 1.95, Accuracy: 0.72\n",
      "[Evaluation over 10 Batches], Test Loss: 1.39, Accuracy: 0.71\n",
      "[Evaluation over 10 Batches], Test Loss: 1.07, Accuracy: 0.73\n",
      "[Evaluation over 10 Batches], Test Loss: 1.33, Accuracy: 0.72\n",
      "[Evaluation over 10 Batches], Test Loss: 1.05, Accuracy: 0.73\n",
      "[Evaluation over 10 Batches], Test Loss: 1.52, Accuracy: 0.66\n",
      "[Evaluation over 10 Batches], Test Loss: 1.16, Accuracy: 0.74\n",
      "[Evaluation over 10 Batches], Test Loss: 1.36, Accuracy: 0.72\n",
      "[Evaluation over 10 Batches], Test Loss: 3.56, Accuracy: 0.50\n",
      "[Evaluation over 10 Batches], Test Loss: 2.07, Accuracy: 0.66\n",
      "[Evaluation over 10 Batches], Test Loss: 3.98, Accuracy: 0.46\n",
      "[Evaluation over 10 Batches], Test Loss: 2.52, Accuracy: 0.65\n",
      "[Evaluation over 10 Batches], Test Loss: 1.67, Accuracy: 0.70\n",
      "[Evaluation over 10 Batches], Test Loss: 1.12, Accuracy: 0.74\n",
      "[Evaluation over 10 Batches], Test Loss: 1.31, Accuracy: 0.71\n"
     ]
    }
   ],
   "source": [
    "from datasets.ClassificationSet import ClassificationSet\n",
    "from models.SheetClassifier import SheetClassifier\n",
    "\n",
    "best_parameters, best_score = None, 0\n",
    "data = ClassificationSet(p.join(d, 'preprocessed_training_set'))\n",
    "trainer = Trainer()\n",
    "\n",
    "for i in range(20):\n",
    "    model = SheetClassifier()\n",
    "\n",
    "    trainer.run_experiment(model, data, epochs=5, criterion=nn.CrossEntropyLoss, train_shuffle=False, show=False)\n",
    "    trainer.evaluate_model(model, show=True)\n",
    "\n",
    "    if best_score < trainer.model_accuracy:\n",
    "        best_score = trainer.model_accuracy\n",
    "        best_parameters = model.state_dict()"
   ]
  },
  {
   "cell_type": "code",
   "execution_count": 4,
   "metadata": {},
   "outputs": [],
   "source": [
    "pd.to_pickle(best_parameters, 'best_initial_params.pkl')"
   ]
  },
  {
   "cell_type": "code",
   "execution_count": null,
   "metadata": {},
   "outputs": [
    {
     "name": "stdout",
     "output_type": "stream",
     "text": [
      "Epoch [1/50], Train Loss: 3.21, Accuracy: 0.47\n",
      "Epoch [6/50], Train Loss: 0.76, Accuracy: 0.67\n",
      "Epoch [11/50], Train Loss: 0.78, Accuracy: 0.66\n",
      "Epoch [16/50], Train Loss: 0.74, Accuracy: 0.67\n",
      "Epoch [21/50], Train Loss: 0.75, Accuracy: 0.67\n",
      "Epoch [26/50], Train Loss: 0.74, Accuracy: 0.68\n",
      "Epoch [31/50], Train Loss: 0.75, Accuracy: 0.67\n",
      "Epoch [36/50], Train Loss: 0.85, Accuracy: 0.60\n",
      "Epoch [41/50], Train Loss: 0.86, Accuracy: 0.60\n",
      "Epoch [46/50], Train Loss: 0.82, Accuracy: 0.63\n",
      "Experiment Complete\n",
      "[Evaluation over 10 Batches], Test Loss: 1.21, Accuracy: 0.35\n"
     ]
    },
    {
     "data": {
      "text/plain": [
       "SheetClassifier(\n",
       "  (model): Sequential(\n",
       "    (0): Conv2d(1, 8, kernel_size=(3, 3), stride=(1, 1), padding=(1, 1))\n",
       "    (1): ReLU()\n",
       "    (2): BatchNorm2d(8, eps=1e-05, momentum=0.1, affine=True, track_running_stats=True)\n",
       "    (3): Conv2d(8, 16, kernel_size=(3, 3), stride=(1, 1), padding=(1, 1))\n",
       "    (4): ReLU()\n",
       "    (5): BatchNorm2d(16, eps=1e-05, momentum=0.1, affine=True, track_running_stats=True)\n",
       "  )\n",
       "  (lin1): Linear(in_features=16384, out_features=3, bias=True)\n",
       ")"
      ]
     },
     "execution_count": 12,
     "metadata": {},
     "output_type": "execute_result"
    }
   ],
   "source": [
    "training_parameters = pd.read_pickle('./best_params.pkl')\n",
    "lr, wd, bs = training_parameters['lr'], training_parameters['weight_decay'], training_parameters['batch_size']\n",
    "\n",
    "model = SheetClassifier()\n",
    "model.load_state_dict(best_parameters)\n",
    "\n",
    "trainer.run_experiment(model, data, epochs=50, learning_rate=lr, weight_decay=wd, batch_size=bs, criterion=nn.CrossEntropyLoss, show=True)\n",
    "trainer.evaluate_model(model, show=True)"
   ]
  },
  {
   "cell_type": "code",
   "execution_count": 22,
   "metadata": {},
   "outputs": [
    {
     "name": "stdout",
     "output_type": "stream",
     "text": [
      "Epoch [1/15], Train Loss: 3.14, Accuracy: 0.65\n",
      "Epoch [6/15], Train Loss: 0.07, Accuracy: 0.98\n",
      "Epoch [11/15], Train Loss: 0.11, Accuracy: 0.96\n",
      "Experiment Complete\n",
      "[Evaluation over 10 Batches], Test Loss: 0.55, Accuracy: 0.82\n"
     ]
    },
    {
     "data": {
      "text/plain": [
       "SheetClassifier(\n",
       "  (model): Sequential(\n",
       "    (0): Conv2d(1, 8, kernel_size=(3, 3), stride=(1, 1), padding=(1, 1))\n",
       "    (1): ReLU()\n",
       "    (2): BatchNorm2d(8, eps=1e-05, momentum=0.1, affine=True, track_running_stats=True)\n",
       "    (3): Conv2d(8, 16, kernel_size=(3, 3), stride=(1, 1), padding=(1, 1))\n",
       "    (4): ReLU()\n",
       "    (5): BatchNorm2d(16, eps=1e-05, momentum=0.1, affine=True, track_running_stats=True)\n",
       "  )\n",
       "  (lin1): Linear(in_features=16384, out_features=3, bias=True)\n",
       ")"
      ]
     },
     "execution_count": 22,
     "metadata": {},
     "output_type": "execute_result"
    }
   ],
   "source": [
    "import torchvision.transforms.v2 as v2\n",
    "\n",
    "model = SheetClassifier()\n",
    "data2 = ClassificationSet(p.join(d, 'training_set'),\n",
    "                          transform=v2.Compose([v2.ToImage(),\n",
    "                                                v2.ToDtype(torch.float32, scale=True),\n",
    "                                                v2.Normalize([.5],[.5]),\n",
    "                                                v2.GaussianBlur(1)]))\n",
    "\n",
    "trainer.run_experiment(model, data2, epochs=15, criterion=nn.CrossEntropyLoss, show=True)\n",
    "trainer.evaluate_model(model, show=True)"
   ]
  },
  {
   "cell_type": "code",
   "execution_count": 23,
   "metadata": {},
   "outputs": [
    {
     "name": "stdout",
     "output_type": "stream",
     "text": [
      "Epoch [1/15], Train Loss: 2.71, Accuracy: 0.48\n",
      "Epoch [6/15], Train Loss: 0.75, Accuracy: 0.67\n",
      "Epoch [11/15], Train Loss: 0.77, Accuracy: 0.67\n",
      "Experiment Complete\n",
      "[Evaluation over 10 Batches], Test Loss: 1.01, Accuracy: 0.50\n"
     ]
    },
    {
     "data": {
      "text/plain": [
       "SheetClassifier(\n",
       "  (model): Sequential(\n",
       "    (0): Conv2d(1, 8, kernel_size=(3, 3), stride=(1, 1), padding=(1, 1))\n",
       "    (1): ReLU()\n",
       "    (2): BatchNorm2d(8, eps=1e-05, momentum=0.1, affine=True, track_running_stats=True)\n",
       "    (3): Conv2d(8, 16, kernel_size=(3, 3), stride=(1, 1), padding=(1, 1))\n",
       "    (4): ReLU()\n",
       "    (5): BatchNorm2d(16, eps=1e-05, momentum=0.1, affine=True, track_running_stats=True)\n",
       "  )\n",
       "  (lin1): Linear(in_features=16384, out_features=3, bias=True)\n",
       ")"
      ]
     },
     "execution_count": 23,
     "metadata": {},
     "output_type": "execute_result"
    }
   ],
   "source": [
    "training_parameters = pd.read_pickle('./best_params.pkl')\n",
    "lr, wd, bs = training_parameters['lr'], training_parameters['weight_decay'], training_parameters['batch_size']\n",
    "\n",
    "model = SheetClassifier()\n",
    "data2 = ClassificationSet(p.join(d, 'training_set'),\n",
    "                          transform=v2.Compose([v2.ToImage(),\n",
    "                                                v2.ToDtype(torch.float32, scale=True),\n",
    "                                                v2.Normalize([.5],[.5]),\n",
    "                                                v2.GaussianBlur(1)]))\n",
    "\n",
    "model = SheetClassifier()\n",
    "model.load_state_dict(best_parameters)\n",
    "\n",
    "trainer.run_experiment(model, data, epochs=15, learning_rate=lr, weight_decay=wd, batch_size=bs, criterion=nn.CrossEntropyLoss, show=True)\n",
    "trainer.evaluate_model(model, show=True)"
   ]
  },
  {
   "cell_type": "code",
   "execution_count": null,
   "metadata": {},
   "outputs": [],
   "source": []
  }
 ],
 "metadata": {
  "kernelspec": {
   "display_name": "Python 3",
   "language": "python",
   "name": "python3"
  },
  "language_info": {
   "codemirror_mode": {
    "name": "ipython",
    "version": 3
   },
   "file_extension": ".py",
   "mimetype": "text/x-python",
   "name": "python",
   "nbconvert_exporter": "python",
   "pygments_lexer": "ipython3",
   "version": "3.11.9"
  }
 },
 "nbformat": 4,
 "nbformat_minor": 2
}
