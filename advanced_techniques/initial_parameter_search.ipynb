{
 "cells": [
  {
   "cell_type": "markdown",
   "metadata": {},
   "source": [
    "# Initial Parameter Search\n",
    "While all other techniques have value (and initial parameters don't really mean anything after many epochs), the truth is that a quick search of the best initial parameters can save large amounts of training time, and there isn't really any good reason not to do it.\n",
    "\n",
    "The following is a small loop I run to perform the search quickly. We could create an optuna study, but the actual code to do so is more involved than the task warrants."
   ]
  },
  {
   "cell_type": "code",
   "execution_count": 1,
   "metadata": {},
   "outputs": [],
   "source": [
    "%load_ext autoreload\n",
    "%autoreload 2\n",
    "\n",
    "import sys; sys.path.append('./*'); sys.path.append('..')\n",
    "import torch\n",
    "import torch.nn as nn\n",
    "import torch.optim as optim\n",
    "from torchvision import datasets, transforms\n",
    "from torch.utils.data import DataLoader\n",
    "from trainer import Trainer\n",
    "import pandas as pd\n",
    "import os.path as p\n",
    "\n",
    "torch.manual_seed(0)\n",
    "device = 'cuda' if torch.cuda.is_available() else 'cpu'\n",
    "d = '../sheet_data'"
   ]
  },
  {
   "cell_type": "code",
   "execution_count": null,
   "metadata": {},
   "outputs": [],
   "source": [
    "from datasets.ClassificationSet import ClassificationSet\n",
    "from models.SheetClassifier import SheetClassifier\n",
    "\n",
    "best_parameters, best_score = None, 0\n",
    "data = ClassificationSet(p.join(d, 'preprocessed_training_set'))\n",
    "trainer = Trainer()\n",
    "\n",
    "for i in range(3):\n",
    "    model = SheetClassifier()\n",
    "\n",
    "    trainer.run_experiment(model, data, epochs=5, criterion=nn.CrossEntropyLoss, train_shuffle=False, show=False)\n",
    "    trainer.evaluate_model(model, show=True)\n",
    "\n",
    "    if best_score < trainer.model_accuracy:\n",
    "        best_score = trainer.model_accuracy\n",
    "        best_parameters = model.state_dict()\n",
    "print(best_parameters)"
   ]
  },
  {
   "cell_type": "code",
   "execution_count": null,
   "metadata": {},
   "outputs": [],
   "source": []
  }
 ],
 "metadata": {
  "kernelspec": {
   "display_name": ".venv",
   "language": "python",
   "name": "python3"
  },
  "language_info": {
   "codemirror_mode": {
    "name": "ipython",
    "version": 3
   },
   "file_extension": ".py",
   "mimetype": "text/x-python",
   "name": "python",
   "nbconvert_exporter": "python",
   "pygments_lexer": "ipython3",
   "version": "3.12.3"
  }
 },
 "nbformat": 4,
 "nbformat_minor": 2
}
