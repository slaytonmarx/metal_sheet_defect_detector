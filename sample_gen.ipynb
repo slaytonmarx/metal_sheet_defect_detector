{
 "cells": [
  {
   "cell_type": "markdown",
   "metadata": {},
   "source": [
    "# Sample Generation\n",
    "Notebook for initial design and then demonstration of sample generation for metal sheet defect classifier and growth tracker."
   ]
  },
  {
   "cell_type": "code",
   "execution_count": 1,
   "metadata": {},
   "outputs": [],
   "source": [
    "%load_ext autoreload\n",
    "%autoreload 2\n",
    "\n",
    "import numpy as np\n",
    "import pandas as pd\n",
    "import numpy.random as r\n",
    "import matplotlib.pyplot as plt\n",
    "from PIL import Image\n",
    "\n",
    "\n",
    "import sys; sys.path.append('./*'); sys.path.append('..')\n",
    "from defects.Defect import Defect\n",
    "from defects.Bubbles import Bubbles\n",
    "from defects.Line import Line"
   ]
  },
  {
   "cell_type": "markdown",
   "metadata": {},
   "source": [
    "# Generate Training Images"
   ]
  },
  {
   "cell_type": "code",
   "execution_count": 2,
   "metadata": {},
   "outputs": [
    {
     "name": "stderr",
     "output_type": "stream",
     "text": [
      "C:\\Users\\slayt\\AppData\\Local\\Temp\\ipykernel_22420\\1063433205.py:17: FutureWarning: ChainedAssignmentError: behaviour will change in pandas 3.0!\n",
      "You are setting values through chained assignment. Currently this works in certain cases, but when using Copy-on-Write (which will become the default behaviour in pandas 3.0) this will never work to update the original DataFrame or Series, because the intermediate object on which we are setting values will behave as a copy.\n",
      "A typical example is when you are setting values in a column of a DataFrame, like:\n",
      "\n",
      "df[\"col\"][row_indexer] = value\n",
      "\n",
      "Use `df.loc[row_indexer, \"col\"] = values` instead, to perform the assignment in a single step and ensure this keeps updating the original `df`.\n",
      "\n",
      "See the caveats in the documentation: https://pandas.pydata.org/pandas-docs/stable/user_guide/indexing.html#returning-a-view-versus-a-copy\n",
      "\n",
      "  df.target[df.target=='Defect'] = 0\n",
      "C:\\Users\\slayt\\AppData\\Local\\Temp\\ipykernel_22420\\1063433205.py:17: SettingWithCopyWarning: \n",
      "A value is trying to be set on a copy of a slice from a DataFrame\n",
      "\n",
      "See the caveats in the documentation: https://pandas.pydata.org/pandas-docs/stable/user_guide/indexing.html#returning-a-view-versus-a-copy\n",
      "  df.target[df.target=='Defect'] = 0\n",
      "C:\\Users\\slayt\\AppData\\Local\\Temp\\ipykernel_22420\\1063433205.py:18: FutureWarning: ChainedAssignmentError: behaviour will change in pandas 3.0!\n",
      "You are setting values through chained assignment. Currently this works in certain cases, but when using Copy-on-Write (which will become the default behaviour in pandas 3.0) this will never work to update the original DataFrame or Series, because the intermediate object on which we are setting values will behave as a copy.\n",
      "A typical example is when you are setting values in a column of a DataFrame, like:\n",
      "\n",
      "df[\"col\"][row_indexer] = value\n",
      "\n",
      "Use `df.loc[row_indexer, \"col\"] = values` instead, to perform the assignment in a single step and ensure this keeps updating the original `df`.\n",
      "\n",
      "See the caveats in the documentation: https://pandas.pydata.org/pandas-docs/stable/user_guide/indexing.html#returning-a-view-versus-a-copy\n",
      "\n",
      "  df.target[df.target=='Line'] = 1\n",
      "C:\\Users\\slayt\\AppData\\Local\\Temp\\ipykernel_22420\\1063433205.py:18: SettingWithCopyWarning: \n",
      "A value is trying to be set on a copy of a slice from a DataFrame\n",
      "\n",
      "See the caveats in the documentation: https://pandas.pydata.org/pandas-docs/stable/user_guide/indexing.html#returning-a-view-versus-a-copy\n",
      "  df.target[df.target=='Line'] = 1\n",
      "C:\\Users\\slayt\\AppData\\Local\\Temp\\ipykernel_22420\\1063433205.py:19: FutureWarning: ChainedAssignmentError: behaviour will change in pandas 3.0!\n",
      "You are setting values through chained assignment. Currently this works in certain cases, but when using Copy-on-Write (which will become the default behaviour in pandas 3.0) this will never work to update the original DataFrame or Series, because the intermediate object on which we are setting values will behave as a copy.\n",
      "A typical example is when you are setting values in a column of a DataFrame, like:\n",
      "\n",
      "df[\"col\"][row_indexer] = value\n",
      "\n",
      "Use `df.loc[row_indexer, \"col\"] = values` instead, to perform the assignment in a single step and ensure this keeps updating the original `df`.\n",
      "\n",
      "See the caveats in the documentation: https://pandas.pydata.org/pandas-docs/stable/user_guide/indexing.html#returning-a-view-versus-a-copy\n",
      "\n",
      "  df.target[df.target=='Bubbles'] = 2\n",
      "C:\\Users\\slayt\\AppData\\Local\\Temp\\ipykernel_22420\\1063433205.py:19: SettingWithCopyWarning: \n",
      "A value is trying to be set on a copy of a slice from a DataFrame\n",
      "\n",
      "See the caveats in the documentation: https://pandas.pydata.org/pandas-docs/stable/user_guide/indexing.html#returning-a-view-versus-a-copy\n",
      "  df.target[df.target=='Bubbles'] = 2\n"
     ]
    }
   ],
   "source": [
    "d = './sheet_data/training_set'\n",
    "df = None\n",
    "id = 0\n",
    "\n",
    "for i in range(2000):\n",
    "    choice = r.randint(0,3)\n",
    "    advances = r.randint(20,30)\n",
    "    match choice:\n",
    "        case 0: defect = Defect(id=id)\n",
    "        case 1: defect = Line(divergence_odds=10, growth_odds=70, growth_factor=1, initial_growth=1, id=id); defect.advance(advances)\n",
    "        case 2: defect = Bubbles(id=id,initial_growth=2); defect.advance(advances)\n",
    "    defect.save_image(advances, d)\n",
    "    if not isinstance(df, pd.DataFrame): df = pd.DataFrame(defect.row());\n",
    "    else: df = pd.concat([df,defect.row()])\n",
    "    id += 1\n",
    "\n",
    "df.target[df.target=='Defect'] = 0\n",
    "df.target[df.target=='Line'] = 1\n",
    "df.target[df.target=='Bubbles'] = 2\n",
    "df.to_csv(d+'/metadata.csv')"
   ]
  },
  {
   "cell_type": "markdown",
   "metadata": {},
   "source": [
    "# Generate Timelapse Images"
   ]
  },
  {
   "cell_type": "code",
   "execution_count": 3,
   "metadata": {},
   "outputs": [
    {
     "name": "stderr",
     "output_type": "stream",
     "text": [
      "/tmp/ipykernel_362078/4250101996.py:16: FutureWarning: ChainedAssignmentError: behaviour will change in pandas 3.0!\n",
      "You are setting values through chained assignment. Currently this works in certain cases, but when using Copy-on-Write (which will become the default behaviour in pandas 3.0) this will never work to update the original DataFrame or Series, because the intermediate object on which we are setting values will behave as a copy.\n",
      "A typical example is when you are setting values in a column of a DataFrame, like:\n",
      "\n",
      "df[\"col\"][row_indexer] = value\n",
      "\n",
      "Use `df.loc[row_indexer, \"col\"] = values` instead, to perform the assignment in a single step and ensure this keeps updating the original `df`.\n",
      "\n",
      "See the caveats in the documentation: https://pandas.pydata.org/pandas-docs/stable/user_guide/indexing.html#returning-a-view-versus-a-copy\n",
      "\n",
      "  df.target[df.target=='Line'] = 1\n",
      "/tmp/ipykernel_362078/4250101996.py:16: SettingWithCopyWarning: \n",
      "A value is trying to be set on a copy of a slice from a DataFrame\n",
      "\n",
      "See the caveats in the documentation: https://pandas.pydata.org/pandas-docs/stable/user_guide/indexing.html#returning-a-view-versus-a-copy\n",
      "  df.target[df.target=='Line'] = 1\n",
      "/tmp/ipykernel_362078/4250101996.py:17: FutureWarning: ChainedAssignmentError: behaviour will change in pandas 3.0!\n",
      "You are setting values through chained assignment. Currently this works in certain cases, but when using Copy-on-Write (which will become the default behaviour in pandas 3.0) this will never work to update the original DataFrame or Series, because the intermediate object on which we are setting values will behave as a copy.\n",
      "A typical example is when you are setting values in a column of a DataFrame, like:\n",
      "\n",
      "df[\"col\"][row_indexer] = value\n",
      "\n",
      "Use `df.loc[row_indexer, \"col\"] = values` instead, to perform the assignment in a single step and ensure this keeps updating the original `df`.\n",
      "\n",
      "See the caveats in the documentation: https://pandas.pydata.org/pandas-docs/stable/user_guide/indexing.html#returning-a-view-versus-a-copy\n",
      "\n",
      "  df.target[df.target=='Bubbles'] = 2\n",
      "/tmp/ipykernel_362078/4250101996.py:17: SettingWithCopyWarning: \n",
      "A value is trying to be set on a copy of a slice from a DataFrame\n",
      "\n",
      "See the caveats in the documentation: https://pandas.pydata.org/pandas-docs/stable/user_guide/indexing.html#returning-a-view-versus-a-copy\n",
      "  df.target[df.target=='Bubbles'] = 2\n"
     ]
    }
   ],
   "source": [
    "d = './sheet_data/timelapse'\n",
    "df = None\n",
    "id = 0\n",
    "for defect_type in ['Line','Bubble']:\n",
    "\n",
    "    # Generate Five Distinct Instances of the Defect\n",
    "    for i in range(10):\n",
    "        defect = Line(divergence_odds=10, growth_odds=70, growth_factor=1, initial_growth=1, id=id) if defect_type == 'Line' else Bubbles(id=id, growth_odds=10, new_bubble_odds=10)\n",
    "        for j in range(0,100,5):\n",
    "            defect.save_image(j, d)\n",
    "            defect.advance(5)\n",
    "        if not isinstance(df, pd.DataFrame): df = pd.DataFrame(defect.row());\n",
    "        else: df = pd.concat([df,defect.row()])\n",
    "        id += 1\n",
    "    \n",
    "df.target[df.target=='Line'] = 1\n",
    "df.target[df.target=='Bubbles'] = 2\n",
    "df.to_csv(d+'/metadata.csv')"
   ]
  },
  {
   "cell_type": "code",
   "execution_count": 6,
   "metadata": {},
   "outputs": [
    {
     "data": {
      "text/plain": [
       "<matplotlib.image.AxesImage at 0x198fbd129d0>"
      ]
     },
     "execution_count": 6,
     "metadata": {},
     "output_type": "execute_result"
    },
    {
     "data": {
      "image/png": "[encoded data removed]",
      "text/plain": [
       "<Figure size 640x480 with 1 Axes>"
      ]
     },
     "metadata": {},
     "output_type": "display_data"
    }
   ],
   "source": [
    "#b = Bubbles()\n",
    "#b.save_image('../../../ml_data/metal_sheets')\n",
    "\n",
    "img = Image.open('./sheet_data/training_set/images/Bubbles_2_23.png')\n",
    "array = np.asarray(img)\n",
    "plt.imshow(array)"
   ]
  },
  {
   "cell_type": "code",
   "execution_count": null,
   "metadata": {},
   "outputs": [],
   "source": []
  }
 ],
 "metadata": {
  "kernelspec": {
   "display_name": "Python 3",
   "language": "python",
   "name": "python3"
  },
  "language_info": {
   "codemirror_mode": {
    "name": "ipython",
    "version": 3
   },
   "file_extension": ".py",
   "mimetype": "text/x-python",
   "name": "python",
   "nbconvert_exporter": "python",
   "pygments_lexer": "ipython3",
   "version": "3.11.9"
  }
 },
 "nbformat": 4,
 "nbformat_minor": 2
}
